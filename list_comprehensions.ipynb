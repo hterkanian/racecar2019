{
 "cells": [
  {
   "cell_type": "markdown",
   "metadata": {},
   "source": [
    "---\n",
    "date: 17 February 2020\n",
    "title: An Introduction to Python List Comprehensions\n",
    "author: Harry Sarkis Terkanian\n",
    "comment: A brief introduction to Python list comprehensions, map, sum and lambda functions.\n",
    "\n",
    "---\n",
    "\n",
    "<font size=\"4\">\n",
    "\n",
    "### Python List Comprehensions\n",
    "\n",
    "\n",
    "#### Introduction and basic syntax\n",
    "\n",
    "\n",
    "List comprehensions are a unique approach to operations on lists, sets, dicts and generators.  List comprehensions provide an elegant way to replace many for loops with more succinct, declarative statements.  Consider the following function to create a list of the numbers 0 through 9 (yes, I know I could accomplish the same with `my_list = range(10)`, but bear with me. . . ):\n",
    "</font>"
   ]
  },
  {
   "cell_type": "code",
   "execution_count": null,
   "metadata": {},
   "outputs": [],
   "source": [
    "  def list_first_ten():\n",
    "      result = []\n",
    "      for item in range(10):\n",
    "          result.append(item)\n",
    "      return result\n",
    "\n",
    "  my_list = list_first_ten()\n",
    "    \n",
    "  my_list"
   ]
  },
  {
   "cell_type": "markdown",
   "metadata": {},
   "source": [
    "<font size=\"4\">\n",
    "Running the above cell will assign the following list: [0, 1, 2, 3, 4, 5, 6, 7, 8, 9] to the label my_list.  The same can be accomplished using a list comprehension as follows:\n",
    "    \n",
    "  ```\n",
    "  my_list = [i for i in range(10)]\n",
    "  ```\n",
    "\n",
    "List comprehensions evaluate each item in the sequence (above the sequence is `range(10`) by the expression and the result is appended to the list.  Basic list comprehension syntax is as follows:\n",
    "\n",
    "  `\n",
    "  [<expression> for <element> in <sequence> <optional if clause(s)>]\n",
    "  `\n",
    "\n",
    "  List comprehensions consist of the following elements:\n",
    "\n",
    "    1. a Python <expression>, which is evaluated\n",
    "    2. for each <element> in a\n",
    "    3. <sequence>\n",
    "    4. and, optionally, one or more <if clauses> (more on this later)\n",
    "    \n",
    "  After evaluation, each is appended to the list.\n",
    "</font>"
   ]
  },
  {
   "cell_type": "markdown",
   "metadata": {},
   "source": [
    "<font size=\"4\">\n",
    "In the cell below write a list comprehension that generates a list of the squares of the integers from 1 to 10.  Name the list \"squares\".\n",
    "</font>"
   ]
  },
  {
   "cell_type": "code",
   "execution_count": null,
   "metadata": {},
   "outputs": [],
   "source": [
    "squares = "
   ]
  },
  {
   "cell_type": "markdown",
   "metadata": {},
   "source": [
    "<font size=\"4\">\n",
    "Did you get squares = [1, 4, 9, 16, 25, 36, 49, 64, 81, 100] ?\n",
    "</font>"
   ]
  },
  {
   "cell_type": "markdown",
   "metadata": {},
   "source": [
    "<font size=\"4\">\n",
    "\n",
    "#### The inspiration for list comprehensions\n",
    "\n",
    "The syntax of list comprehensions is a Python implementation of the mathematical notation for sets.  For example, the notation for set consisting of the squares of the integers 0 through 9 is: { x <sup>2</sup> | x &#8712; of {0, 1, 2, 3, 4, 5, 6, 7, 8, 9}}.\n",
    "\n",
    "\"x <sup>2</sup>\" is the \\<expression\\>, \"| x &#8712;\"  equates to \"for x in\", and \"{0, 1, 2, 3, 4, 5, 6, 7, 8, 9}\" is a \\<sequence\\> corresponding to \"range(10)\" (or an equivalent list, set or generator).  List comprehensions are succinct, consolidating the logic in a single line instead of spreading it over several lines of code as in the function list_first_ten() above.\n",
    "\n",
    "#### Extended syntax; if clauses and extension of list comprehension to sets, dicts and generators\n",
    "##### If clauses\n",
    "\n",
    "If clauses can be added to determine which sequence elements are evaluated by the expression.  Adding \"if x%2 == 0\" to the previous example will cause each sequence element to be evaluated by the if clause which will evaluate as True only for multiples of two.  Only sequence elements which are evaluated as True by the if clause(s) will be passed to the expression, evaluated and added to the list.\n",
    "\n",
    "  `\n",
    "  [x for x in range(10) if x %2 == 0]\n",
    "  `\n",
    "\n",
    "generates the following list: \\[0, 2, 4, 6, 8\\].  Adding a second if clause `%3 == 0` results in a list containing only multiples of 6, in this example only 0 and 6.  \n",
    "\n",
    "  `\n",
    "  [x for x in range(10) if x %2 == 0 if x %3 == 0]\n",
    "  `\n",
    "\n",
    "or, using a compound if expression:\n",
    "\n",
    "  `\n",
    "  [x for x in range(10) if x % 2 == 0 and x % 3 == 0]\n",
    "  `\n",
    "\n",
    "or even more simply\n",
    "\n",
    "  `\n",
    "  [x for x in range(10) if x % 6 == 0]\n",
    "  `\n",
    "In the cell below construct a list comprehension to generate a list of the squares of the integers from 1 to 10, exclude any squares that are even:\n",
    "</font>"
   ]
  },
  {
   "cell_type": "code",
   "execution_count": null,
   "metadata": {},
   "outputs": [],
   "source": [
    "odd_squares ="
   ]
  },
  {
   "cell_type": "markdown",
   "metadata": {},
   "source": [
    "<font size=\"4\">\n",
    "    \n",
    "Did you get odd_squares = \\[1, 9, 25, 49, 81\\] ?\n",
    "</font>"
   ]
  },
  {
   "cell_type": "markdown",
   "metadata": {},
   "source": [
    "<font size=\"4\">\n",
    "\n",
    "##### List comprehensions applied to sets, dicts, and generators\n",
    "The same idea can be extended to sets, dicts and generators.  Consider the example list comprehension:\n",
    "\n",
    "  `\n",
    "  [x for x in range(6)]\n",
    "  `\n",
    "\n",
    "1. To create a set instead of a list replace the enclosing [square brackets] with {braces}:  `{x for x in range(6)}` generates the set {0, 1, 2, 3, 4, 5}. As with all sets, there will be no duplicate elements and the order of elements is not guaranteed, the process is otherwise the same as for lists.\n",
    "\n",
    "\n",
    "2. To create a dict you need to generate both a key and a value so the single expression is replaced by two expressions separated by a colon: \\<key expression\\> : \\<value expression\\>.  As with sets, also replace the \\[square brackets\\] with \\{braces\\}.\n",
    "\n",
    "  `\n",
    "  {x : str(x) for x in range(6)}\n",
    "  `\n",
    "\n",
    "generates the dict with integer keys and string values for the ints 0 through 5: {0: '0', 1: '1', 2: '2', 3: '3', 4: '4', 5: '5'}\n",
    "\n",
    "3. To create a generator replace the [square braces] with (parenthesis):\n",
    "\n",
    "  `\n",
    "  (x for x in range(6))\n",
    "  `\n",
    "\n",
    "Generators can be passed as input to function such as sum() or can generate a list by passing the generator to the list() function as follows\n",
    "\n",
    "  `\n",
    "  list((x for x in range(6)))\n",
    "  `\n",
    "\n",
    "produces the list \\[0, 1, 2, 3, 4, 5\\]\n",
    "</font>"
   ]
  },
  {
   "cell_type": "markdown",
   "metadata": {},
   "source": [
    "<font size=\"4\">\n",
    "    \n",
    "#### List comprehension examples\n",
    "\n",
    "\n",
    "  1. `[item for item in range(4)]` generates the list: `[0, 1, 2, 3]`\n",
    "  2. `[item ** 2 for item in range(4)]` generates a list of squared values : `[0, 1, 4, 9]`\n",
    "  3. `{item for item in range(4)}` generates a set: `{0, 1, 2, 3}`\n",
    "  4. `{item : str(item) for item in range(4)}` generates a dict with integer keys and string values: `{0: '0', 1: '1', 2; '2', 3: '3'}`\n",
    "  5. `[item for item in range(4) if item % 2 == 0]` generates a list of items evenly divisible by 2: `[0, 2]`\n",
    "  6. `[item for item in range(19) if item % 2 == 0 if item % 3 == 0]` generates a list of items evenly divisible by 6: `[0, 6, 12, 18]`\n",
    "</font>\n"
   ]
  },
  {
   "cell_type": "markdown",
   "metadata": {},
   "source": [
    "<font size=\"4\">\n",
    "    \n",
    "#### Python map functions\n",
    "Map provides a way of applying a function to each element of a list (or other sequence) to generate a new list with each element of the new list being the corresponding element of the input list as evaluated by the function.  The number of lists provided as arguments to map() must correspond to the number of function arguments and must be presented in the same order.  Consider the function below which consumes two arguments and returns the sum of the first argument added to the square of the second:\n",
    "\n",
    "  ```\n",
    "  def my_func(arg1, arg2):\n",
    "      return arg1 + arg2 ** 2\n",
    "\n",
    "  ```\n",
    "\n",
    "Providing this function and two sequences in the form of range statements to map generates a new list:\n",
    "\n",
    "  `\n",
    "  map(my_func, range(4), range(3, 10, 2))\n",
    "  `\n",
    "\n",
    "generates\n",
    "  `\n",
    "  [9, 26, 51, 84]\n",
    "  `\n",
    "\n",
    "The range statements can be replaced by lists (or anything else that can be iterated over).  For example, the second range statement in the above  could be replaced by the equivalent list comprehension: `[3 + 2 * i for i in range(4)]` as in:\n",
    "\n",
    "  `\n",
    "  map(my_func, range(4), [3 + 2 * i for i in range(4)])\n",
    "  `\n",
    "</font>"
   ]
  },
  {
   "cell_type": "markdown",
   "metadata": {},
   "source": [
    "<font size=\"4\">\n",
    "\n",
    "#### Python lambda functions\n",
    "\n",
    "You may have noticed that my_func in the map example likely is used only as an argument to the map function.  Python provides a way to provide an anonymous  (single use) function using the \"lambda\" operator.  Lambda operators use  the Python reserved word `lambda` and have the form:\n",
    "\n",
    "  ```\n",
    "  lambda arg_1, ... ,arg_n : <Python expression evaluated using arg_1 ... arg_n as inputs>\n",
    "  ```\n",
    "\n",
    "my_func above can be rewritten as a lambda expression:\n",
    "\n",
    "  ```\n",
    "  lambda arg_1, arg_2 : arg_1 + arg_2 ** 2\n",
    "  ```\n",
    "\n",
    "the lambda function becomes a drop in replacement for my_func in the map example:\n",
    "\n",
    "  ```\n",
    "  map(lambda arg_1, arg_2 : arg_1 + arg_2 ** 2, range(4), [3 + 2 * i for i in range(4)])\n",
    "  ```\n",
    "</font>"
   ]
  },
  {
   "cell_type": "markdown",
   "metadata": {},
   "source": [
    "<font size=\"4\">\n",
    "\n",
    "#### Python sum function\n",
    "The built in Python function sum() takes a single sequence as input and returns the sum of all sequence elements.  For example,\n",
    "\n",
    "  ```\n",
    "  sum(range(4))\n",
    "  ```\n",
    "\n",
    "returns the sum of 0 + 1 + 2 + 3 = 6.  The input to sum() can be anything that produces a sequence of numerical values such as the map() examples in the previous section.\n",
    "</font>"
   ]
  },
  {
   "cell_type": "markdown",
   "metadata": {},
   "source": [
    "<font size=\"4\">\n",
    "\n",
    "#### Putting it all together\n",
    "A lambda expression and two list comprehensions are input to map().  The resulting list is then input to sum():\n",
    "  ```\n",
    "  sum(map(lambda arg1, arg2 : arg1 + arg2 ** 2, [i for i in range(4)], [3 + 2 * i for i in range(4)]))\n",
    "  ```\n",
    "\n",
    "which returns 170, the sum of the list elements generated by map in the above example.\n",
    "</font>"
   ]
  },
  {
   "cell_type": "code",
   "execution_count": null,
   "metadata": {},
   "outputs": [],
   "source": []
  }
 ],
 "metadata": {
  "kernelspec": {
   "display_name": "Python 2",
   "language": "python",
   "name": "python2"
  },
  "language_info": {
   "codemirror_mode": {
    "name": "ipython",
    "version": 2
   },
   "file_extension": ".py",
   "mimetype": "text/x-python",
   "name": "python",
   "nbconvert_exporter": "python",
   "pygments_lexer": "ipython2",
   "version": "2.7.17"
  }
 },
 "nbformat": 4,
 "nbformat_minor": 2
}
